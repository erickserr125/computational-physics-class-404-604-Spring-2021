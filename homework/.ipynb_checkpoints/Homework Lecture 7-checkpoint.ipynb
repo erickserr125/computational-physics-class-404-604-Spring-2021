{
 "cells": [
  {
   "cell_type": "markdown",
   "metadata": {},
   "source": [
    "# Homework:\n",
    "A person throws a ball upwards at a speed of 10m/s, please calculate the trajectory using Runge-Katta method and plot height(z) vs time(t)"
   ]
  },
  {
   "cell_type": "markdown",
   "metadata": {},
   "source": [
    "We are given the velocity $v_0$=$10m/s$ and the acceleration $a$ = $-9.81m/s^2$ we can begin with a set of time from $0$ to $10$ seconds"
   ]
  },
  {
   "cell_type": "code",
   "execution_count": 2,
   "metadata": {},
   "outputs": [],
   "source": [
    "import numpy as np\n",
    "import matplotlib.pyplot as plt\n",
    "\n",
    "t = np.linspace(0,10)\n"
   ]
  },
  {
   "cell_type": "markdown",
   "metadata": {},
   "source": [
    "We now that the height is related by the kinematic equation:\n",
    "$$\n",
    "y = y_0 + v_0 t + \\frac{1}{2}at^2\n",
    "$$\n",
    "However, we want to apply the Runge-Kutta method to calculate the height numerically"
   ]
  },
  {
   "cell_type": "code",
   "execution_count": 4,
   "metadata": {},
   "outputs": [
    {
     "data": {
      "image/png": "[encoded data removed]",
      "text/plain": [
       "<Figure size 432x288 with 1 Axes>"
      ]
     },
     "metadata": {
      "needs_background": "light"
     },
     "output_type": "display_data"
    }
   ],
   "source": [
    "#For verification, we can map the function using the equation\n",
    "import matplotlib.pyplot as plt\n",
    "\n",
    "y = 10*t-1/2*9.81*(t)**2\n",
    "y[y<0] = 0 #Ball hits the ground\n",
    "\n",
    "plt.plot(t,y)\n",
    "plt.show()"
   ]
  },
  {
   "cell_type": "markdown",
   "metadata": {},
   "source": [
    "Now we implement the RK4 method; it is clear we must apply this twice:\n",
    "\n",
    "1. First we map the height by\n",
    "\n",
    "$$\n",
    "y_{n+1} = y_n + \\frac{1}{6}(k_1+2k_2+2k_3+k_4)\n",
    "$$\n",
    "such that\n",
    "$$\n",
    "k_1 = h*f(t,y)\n",
    "$$\n",
    "$$\n",
    "k_2 = h*f(t+h/2,y+k1/2)\n",
    "$$\n",
    "$$\n",
    "k_3 = h*f(t+h/2,y+k2/2)\n",
    "$$\n",
    "$$\n",
    "k_4 = h*f(t+h/2,y+k3/2)\n",
    "$$\n",
    "\n",
    "Now we can recall\n",
    "\n",
    "$$\n",
    "y = y_0 + v_0 t + \\frac{1}{2}at^2\n",
    "$$\n",
    "\n",
    "where\n",
    "\n",
    "$$\n",
    "\\frac{dy}{dt} = v_{0} + at = v\n",
    "$$\n",
    "\n",
    "and\n",
    "\n",
    "$$\n",
    "\\frac{dv}{dt} = -9.81\n",
    "$$\n",
    "\n",
    "So in this case, $y[0]= y$ and $y[1] = v_y$ "
   ]
  },
  {
   "cell_type": "code",
   "execution_count": 69,
   "metadata": {},
   "outputs": [
    {
     "data": {
      "image/png": "[encoded data removed]",
      "text/plain": [
       "<Figure size 432x288 with 1 Axes>"
      ]
     },
     "metadata": {
      "needs_background": "light"
     },
     "output_type": "display_data"
    }
   ],
   "source": [
    "y = [0,10] #y, v_y\n",
    "n = 2\n",
    "t = 0\n",
    "h = .001\n",
    "    \n",
    "def f(t,y):\n",
    "    a = -9.81\n",
    "    f_l = np.empty(2)\n",
    "    f_l[0] = y[1] + 1/2*a*t #dy/dt\n",
    "    f_l[1] = a #dv/dt\n",
    "    return f_l\n",
    "    \n",
    "def rk4(t,h,y):\n",
    "    k1=h*f(t,y)\n",
    "    k2=h*f(t+0.5*h,y+0.5*k1)\n",
    "    k3=h*f(t+0.5*h,y+0.5*k2)\n",
    "    k4=h*f(t+0.5*h,y+0.5*k3)\n",
    "    y+= 1/6*(k1+2*k2+2*k3+k4)\n",
    "    #print(k1.shape)\n",
    "    #print(\"Distance, Velocity): \",y)\n",
    "    #print(\"Time: \",t)\n",
    "    return y \n",
    "\n",
    "    \n",
    "height =np.empty(0)\n",
    "time = np.empty(0)\n",
    "while(t<10):\n",
    "    if((t+h)>10):\n",
    "        h=10-t\n",
    "    y = rk4(t,h,y)\n",
    "    height =np.append(height,y[0])\n",
    "    time = np.append(time, t)\n",
    "    t = t+h\n",
    "    \n",
    "height = height.reshape((height.shape[0],1))\n",
    "height[height<0] = 0\n",
    "\n",
    "plt.plot(time, height)\n",
    "plt.xlabel(\"time\")\n",
    "plt.ylabel(\"height\")\n",
    "plt.show()"
   ]
  },
  {
   "cell_type": "code",
   "execution_count": null,
   "metadata": {},
   "outputs": [],
   "source": []
  }
 ],
 "metadata": {
  "kernelspec": {
   "display_name": "Python 3",
   "language": "python",
   "name": "python3"
  },
  "language_info": {
   "codemirror_mode": {
    "name": "ipython",
    "version": 3
   },
   "file_extension": ".py",
   "mimetype": "text/x-python",
   "name": "python",
   "nbconvert_exporter": "python",
   "pygments_lexer": "ipython3",
   "version": "3.8.5"
  }
 },
 "nbformat": 4,
 "nbformat_minor": 2
}
