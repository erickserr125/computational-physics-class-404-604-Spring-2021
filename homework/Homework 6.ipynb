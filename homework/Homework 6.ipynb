{
 "cells": [
  {
   "cell_type": "markdown",
   "metadata": {},
   "source": [
    "Write a shooting method to calculate the Legendre polynomials with $n=5$\n",
    "\n",
    "$$\n",
    "\\frac{d^2p_n}{dx^2} = \\frac{1}{1-x^2}[2x\\frac{dP_n}{dx} - n(n+1)P_n],\n",
    "$$\n",
    "$$\n",
    "P_n(-1) = (-1)^n \\quad P_n(1) = 1\n",
    "$$"
   ]
  },
  {
   "cell_type": "markdown",
   "metadata": {},
   "source": [
    "Since we have yet to use the "
   ]
  }
 ],
 "metadata": {
  "kernelspec": {
   "display_name": "Python 3",
   "language": "python",
   "name": "python3"
  },
  "language_info": {
   "codemirror_mode": {
    "name": "ipython",
    "version": 3
   },
   "file_extension": ".py",
   "mimetype": "text/x-python",
   "name": "python",
   "nbconvert_exporter": "python",
   "pygments_lexer": "ipython3",
   "version": "3.7.3"
  }
 },
 "nbformat": 4,
 "nbformat_minor": 2
}
