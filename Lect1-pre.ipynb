{
 "cells": [
  {
   "cell_type": "markdown",
   "metadata": {},
   "source": [
    "# Physics 404/604\n",
    "\n",
    "## Computational Physics (Spring 2021)\n",
    "\n",
    "## Online\n",
    "\n",
    "| Instructor | Prof. Zhaohuan Zhu                 |\n",
    "| ---------- | :--------------------------------- |\n",
    "| Email      | zhaohuan.zhu@unlv.edu              |\n",
    "| Website    | http://www.physics.unlv.edu/~zhzhu |\n",
    "| Office     | BPB 245                            |\n",
    "\n",
    "\n",
    "\n",
    "# 1 Python Basics\n",
    "## 1.1 Python Installation\n",
    "\n",
    "## Conda (a little bit old, see README of the course)\n",
    "The best way set-up an scientific Python environment is to use the cross-platform package manager conda from Continuum Analytics. First download and install Anaconda https://www.anaconda.com/download/#macos (download Mac or Windows version depending on your operation system). Next, to install the required libraries for these notebooks, simply run following at your anaconda terminal :\n",
    "\n",
    "\t$ conda install jupyter spyder numpy scipy sympy matplotlib cython \n",
    "    \n",
    "To install vpython:  \n",
    "Fllow https://vpython.org/presentation2018/install.html\n",
    "In a Power Shell or Command Prompt (Windows) or Terminal (Mac / Linux) run this command, which will install VPython 7 for Python 2.7, 3.4, 3.5, or 3.6:   \n",
    "\n",
    "    $ pip install vpython  \n",
    "    \n",
    "  Or if using Anaconda, conda install -c vpython vpython   (For Python 3.7, you need to use pip install vpython)\n",
    "    \n",
    "After you installed jupyter, you could run it from the anaconda terminal \n",
    "\n",
    "    $ jupyter notebook\n",
    "    \n",
    "Then you can type python command and save it to your notebook\n",
    "\n",
    "## Viewing Jupyter notebook\n",
    "Sometimes the equations cannot be displayed correctly using the web browser. You can use nbview to get a better display for equations.\n",
    "https://nbviewer.jupyter.org/\n",
    "\n",
    "## Running Jupyter notebook online\n",
    "If you use the department computers, this may work \n",
    "(Please test this)\n",
    "https://jupyter.org/try"
   ]
  },
  {
   "cell_type": "code",
<<<<<<< HEAD
   "execution_count": 1,
=======
   "execution_count": 2,
>>>>>>> upstream/main
   "metadata": {},
   "outputs": [
    {
     "name": "stdout",
     "output_type": "stream",
     "text": [
      "Welcome to Physics 404/604\n"
     ]
    }
   ],
   "source": [
    "#get started\n",
    "print(\"Welcome to Physics 404/604\")"
   ]
  },
  {
   "cell_type": "code",
<<<<<<< HEAD
   "execution_count": 2,
   "metadata": {},
   "outputs": [],
   "source": [
    "# variable assignments with =\n",
    "# different from C/fortran, no need to specify the type of a varialbe, dynamically typed language\n",
    "\n",
    "x=1.0"
   ]
  },
  {
   "cell_type": "code",
   "execution_count": 3,
=======
   "execution_count": 7,
>>>>>>> upstream/main
   "metadata": {},
   "outputs": [
    {
     "name": "stdout",
     "output_type": "stream",
     "text": [
      "1.0 <class 'float'>\n"
     ]
    }
   ],
   "source": [
    "print(x, type(x))"
   ]
  },
  {
   "cell_type": "code",
   "execution_count": 4,
   "metadata": {},
   "outputs": [
    {
     "ename": "SyntaxError",
     "evalue": "invalid syntax (<ipython-input-4-8d03e5fd0eac>, line 3)",
     "output_type": "error",
     "traceback": [
      "\u001b[0;36m  File \u001b[0;32m\"<ipython-input-4-8d03e5fd0eac>\"\u001b[0;36m, line \u001b[0;32m3\u001b[0m\n\u001b[0;31m    1stvelocity=1\u001b[0m\n\u001b[0m              ^\u001b[0m\n\u001b[0;31mSyntaxError\u001b[0m\u001b[0;31m:\u001b[0m invalid syntax\n"
     ]
    }
   ],
   "source": [
    "# In-Class Questions, which ones are valid\n",
    "_velocity=1\n",
    "1stvelocity=1\n",
    "vel1st=1\n",
    "_vel_1st=1\n",
    "vel#2=1\n",
    "vel)=1\n",
    "Name_Student=\"Joe\"\n",
    "_Name~student=\"Bob\""
   ]
  },
  {
   "cell_type": "markdown",
   "metadata": {},
   "source": [
    "Data Types  \n",
    "    Python has 5 data types  \n",
    "    * Numbers\n",
    "    * String\n",
    "    * List\n",
    "    * Tuple\n",
    "    * Dictionary\n"
   ]
  },
  {
   "cell_type": "code",
<<<<<<< HEAD
   "execution_count": 5,
=======
   "execution_count": 8,
>>>>>>> upstream/main
   "metadata": {},
   "outputs": [],
   "source": [
    "# Numbers:\n",
    "# integers\n",
    "# float\n",
    "# bollean\n",
    "# complex\n",
    "a = 3\n",
    "b = 3.0\n",
    "c = True\n",
    "d = 3.+3.j"
   ]
  },
  {
   "cell_type": "code",
<<<<<<< HEAD
   "execution_count": 6,
=======
   "execution_count": 9,
>>>>>>> upstream/main
   "metadata": {},
   "outputs": [
    {
     "name": "stdout",
     "output_type": "stream",
     "text": [
      "3 <class 'int'>\n",
      "3.0 <class 'float'>\n",
      "True <class 'bool'>\n",
      "(3+3j) <class 'complex'>\n"
     ]
    }
   ],
   "source": [
    "print(a, type(a))\n",
    "print(b, type(b))\n",
    "print(c, type(c))\n",
    "print(d, type(d))"
   ]
  },
  {
   "cell_type": "code",
<<<<<<< HEAD
   "execution_count": 7,
=======
   "execution_count": 10,
>>>>>>> upstream/main
   "metadata": {},
   "outputs": [
    {
     "name": "stdout",
     "output_type": "stream",
     "text": [
      "welcome <class 'str'>\n"
     ]
    }
   ],
   "source": [
    "# String\n",
    "a = \"welcome\"\n",
    "print(a, type(a))\n"
   ]
  },
  {
   "cell_type": "code",
<<<<<<< HEAD
   "execution_count": 8,
=======
   "execution_count": 11,
>>>>>>> upstream/main
   "metadata": {},
   "outputs": [
    {
     "name": "stdout",
     "output_type": "stream",
     "text": [
      "list index 2 = 3.4\n",
      "list index -1 =  4.5\n",
      "list index 2 to the end =  [3.4, 4.5]\n",
      "list index 0 to 2 =  [1, 'Hello', 3.4]\n"
     ]
    }
   ],
   "source": [
    "# List:\n",
    "# empty list\n",
    "my_list = []\n",
    "\n",
    "# list of integers\n",
    "my_list = [1, 2, 3]\n",
    "\n",
    "# list with mixed datatypes\n",
    "my_list = [1, \"Hello\", 3.4, 4.5]\n",
    "\n",
    "# access list through index, the index starts with 0\n",
    "print(\"list index 2 =\",my_list[2])\n",
    "\n",
    "# the index can be negative\n",
    "print(\"list index -1 = \",my_list[-1])\n",
    "\n",
    "# or you can select several elements in the list using colon\n",
    "print(\"list index 2 to the end = \",my_list[2:])\n",
    "print(\"list index 0 to 2 = \",my_list[0:3]) # note that 0:3 only select 0,1,2 index"
   ]
  },
  {
   "cell_type": "code",
<<<<<<< HEAD
   "execution_count": 9,
=======
   "execution_count": 13,
>>>>>>> upstream/main
   "metadata": {},
   "outputs": [
    {
     "name": "stdout",
     "output_type": "stream",
     "text": [
      "[1, 2, 3, 4, 5]\n"
     ]
    }
   ],
   "source": [
    "# List are mutable, unlike string and tuple\n",
    "array=[1,3,2,5,5]\n",
    "\n",
    "# change the forth element\n",
    "array[3]=4\n",
    "\n",
    "# change the second and third elements\n",
    "array[1:3]=[2,3] # notice that 1:3 selects index 1,2\n",
    "\n",
    "print(array)"
   ]
  },
  {
   "cell_type": "code",
<<<<<<< HEAD
   "execution_count": 10,
=======
   "execution_count": 14,
>>>>>>> upstream/main
   "metadata": {},
   "outputs": [
    {
     "name": "stdout",
     "output_type": "stream",
     "text": [
      "[1, 2, 3, 4, 5, 6]\n",
      "[2, 3, 4, 5, 6]\n"
     ]
    }
   ],
   "source": [
    "# add and delete element\n",
    "array.append(6)\n",
    "print(array)\n",
    "del array[0]\n",
    "print (array)"
   ]
  },
  {
   "cell_type": "code",
<<<<<<< HEAD
   "execution_count": 11,
=======
   "execution_count": 15,
>>>>>>> upstream/main
   "metadata": {},
   "outputs": [
    {
     "name": "stdout",
     "output_type": "stream",
     "text": [
      "0 1 2 3 4 5 6 7 8 9\n",
      "-3 -1 1 3 5 7\n",
      "[1, 2, 4, 8, 16, 32, 64, 128, 256, 512]\n"
     ]
    }
   ],
   "source": [
    "# Ways to create a list\n",
    "index=range(10) # 9 numbers from 0 to 9\n",
    "index2=range(-3,9,2)\n",
    "print(*index)# * means unpack the sequence\n",
    "print(*index2)\n",
    "\n",
    "#Fancy way to create a list: List Comprehension\n",
    "pow2 = [2 ** x for x in range(10)]\n",
    "print(pow2)\n"
   ]
  },
  {
   "cell_type": "markdown",
   "metadata": {},
   "source": [
    " Dictionary: a collection of data e.g. this={\"brand\": \"Ford\", \"year\": 1964}\n",
    "\n",
    "Dictionaries and lists share the following characteristics:\n",
    "\n",
    "    Both are mutable.\n",
    "    Both are dynamic. They can grow and shrink as needed.\n",
    "    Both can be nested. A list can contain another list. A dictionary can contain another dictionary. A dictionary can also contain a list, and vice versa.\n",
    "\n",
    "Dictionaries differ from lists primarily in how elements are accessed:\n",
    "\n",
    "    List elements are accessed by their position in the list, via indexing. (e.g. a[0])\n",
    "    Dictionary elements are accessed via keys (e.g. this[\"brand\"]).\n"
   ]
  },
  {
   "cell_type": "code",
<<<<<<< HEAD
   "execution_count": 12,
=======
   "execution_count": 18,
>>>>>>> upstream/main
   "metadata": {},
   "outputs": [
    {
     "name": "stdout",
     "output_type": "stream",
     "text": [
      "Mustang\n",
      "{'brand': 'Ford', 'model': 'Mustang', 'year': 2018}\n",
      "brand Ford\n",
      "model Mustang\n",
      "year 2018\n"
     ]
    }
   ],
   "source": [
    "thisdict ={\n",
    "  \"brand\": \"Ford\",\n",
    "  \"model\": \"Mustang\",\n",
    "  \"year\": 1964\n",
    "}\n",
    "\n",
    "# access and change dictionary \n",
    "x = thisdict[\"model\"]\n",
    "print(x)\n",
    "thisdict[\"year\"] = 2018\n",
    "print(thisdict)\n",
    "\n",
    "# loop through the dictionary\n",
    "for x in thisdict: # x is the key\n",
    "  print(x,thisdict[x]) \n",
    "\n",
    "# try it: change the year to an array [1964, 2020]\n"
   ]
  },
  {
   "cell_type": "code",
   "execution_count": 19,
   "metadata": {},
   "outputs": [
    {
     "name": "stdout",
     "output_type": "stream",
     "text": [
      "<class 'numpy.ndarray'>\n",
      "(2, 3)\n",
      "6.0\n",
      "[-1.00000000e+00 -9.00000000e-01 -8.00000000e-01 -7.00000000e-01\n",
      " -6.00000000e-01 -5.00000000e-01 -4.00000000e-01 -3.00000000e-01\n",
      " -2.00000000e-01 -1.00000000e-01 -2.22044605e-16  1.00000000e-01\n",
      "  2.00000000e-01  3.00000000e-01  4.00000000e-01  5.00000000e-01\n",
      "  6.00000000e-01  7.00000000e-01  8.00000000e-01  9.00000000e-01\n",
      "  1.00000000e+00  1.10000000e+00  1.20000000e+00  1.30000000e+00\n",
      "  1.40000000e+00  1.50000000e+00  1.60000000e+00  1.70000000e+00\n",
      "  1.80000000e+00  1.90000000e+00  2.00000000e+00  2.10000000e+00\n",
      "  2.20000000e+00  2.30000000e+00  2.40000000e+00  2.50000000e+00\n",
      "  2.60000000e+00  2.70000000e+00  2.80000000e+00  2.90000000e+00\n",
      "  3.00000000e+00  3.10000000e+00  3.20000000e+00  3.30000000e+00\n",
      "  3.40000000e+00  3.50000000e+00  3.60000000e+00  3.70000000e+00\n",
      "  3.80000000e+00  3.90000000e+00  4.00000000e+00  4.10000000e+00\n",
      "  4.20000000e+00  4.30000000e+00  4.40000000e+00  4.50000000e+00\n",
      "  4.60000000e+00  4.70000000e+00  4.80000000e+00  4.90000000e+00]\n",
      "[1 2 3 4 5 6 7 8 9]\n"
     ]
    }
   ],
   "source": [
    "# A lot of times, list are used as arrays. But it is more convenient to use Numpy library to generate/operate arrays\n",
    "\n",
    "import numpy as np\n",
    "a=np.array([1,2,3])\n",
    "b=np.array([[1.,2.,3.],[4.,5.,6.]])\n",
    "c=np.arange(-1.,5.,0.1) # number starting at -1, with interval 0.1, ending at 5.0, do not include 0.1\n",
    "d=np.arange(1,10) # 9 numbers\n",
    "\n",
    "print(type(a))\n",
    "print(b.shape)\n",
    "print(b[1,2]) #second row, third coloumn\n",
    "print(c)\n",
    "print(d)"
   ]
  },
  {
   "cell_type": "markdown",
   "metadata": {},
   "source": [
    "##  1.3 Operators and comparisons\n",
    "Normal definition:\n",
    "\n",
    "Arithmetic operators +, -, $*$, /, % (modulus), // (floor division), $**$ (power)"
   ]
  },
  {
   "cell_type": "code",
<<<<<<< HEAD
   "execution_count": 14,
=======
   "execution_count": 21,
>>>>>>> upstream/main
   "metadata": {},
   "outputs": [
    {
     "name": "stdout",
     "output_type": "stream",
     "text": [
      "x + y = 17\n",
      "x - y = 11\n",
      "x * y = 42\n",
      "x / y = 4.666666666666667\n",
      "x // y = 4\n",
      "x % y = 2\n",
      "x ** y = 2744\n"
     ]
    }
   ],
   "source": [
    "x = 14\n",
    "y = 3\n",
    "\n",
    "# Output: x + y = 17\n",
    "print('x + y =',x+y)\n",
    "\n",
    "# Output: x - y = 11\n",
    "print('x - y =',x-y)\n",
    "\n",
    "# Output: x * y = 42\n",
    "print('x * y =',x*y)\n",
    "\n",
    "# Output: x / y = 4.67\n",
    "print('x / y =',x/y) # automatically convert it to float\n",
    "\n",
    "# Output: x // y = 4 \n",
    "# division into integer adjusted to the left in the number line, note negative number)\n",
    "print('x // y =',x//y)\n",
    "\n",
    "# Output: x % y = 4 \n",
    "# modulus (work for both integer and float)\n",
    "print('x % y =',x%y)\n",
    "\n",
    "# Output: x ** y = 2744\n",
    "print('x ** y =',x**y)"
   ]
  },
  {
   "cell_type": "code",
   "execution_count": 14,
   "metadata": {},
   "outputs": [
    {
     "name": "stdout",
     "output_type": "stream",
     "text": [
      "x > y  is False\n",
      "x < y  is True\n",
      "x == y is False\n",
      "x != y is True\n",
      "x >= y is False\n",
      "x <= y is True\n"
     ]
    }
   ],
   "source": [
    "# Comparison operators\n",
    "\n",
    "x = 10\n",
    "y = 12\n",
    "\n",
    "# Output: x > y is False\n",
    "print('x > y  is',x>y)\n",
    "\n",
    "# Output: x < y is True\n",
    "print('x < y  is',x<y)\n",
    "\n",
    "# Output: x == y is False\n",
    "print('x == y is',x==y)\n",
    "\n",
    "# Output: x != y is True\n",
    "print('x != y is',x!=y)\n",
    "\n",
    "# Output: x >= y is False\n",
    "print('x >= y is',x>=y)\n",
    "\n",
    "# Output: x <= y is True\n",
    "print('x <= y is',x<=y)"
   ]
  },
  {
   "cell_type": "code",
<<<<<<< HEAD
   "execution_count": 16,
=======
   "execution_count": 15,
>>>>>>> upstream/main
   "metadata": {},
   "outputs": [
    {
     "name": "stdout",
     "output_type": "stream",
     "text": [
      "x and y is False\n",
      "x or y is True\n",
      "not x is False\n"
     ]
    }
   ],
   "source": [
    "# Logical operators\n",
    "\n",
    "x = True\n",
    "y = False\n",
    "\n",
    "# Output: x and y is False\n",
    "print('x and y is',x and y)\n",
    "\n",
    "# Output: x or y is True\n",
    "print('x or y is',x or y)\n",
    "\n",
    "# Output: not x is False\n",
    "print('not x is',not x)"
   ]
  },
  {
   "cell_type": "code",
<<<<<<< HEAD
   "execution_count": 17,
=======
   "execution_count": 22,
>>>>>>> upstream/main
   "metadata": {},
   "outputs": [
    {
     "name": "stdout",
     "output_type": "stream",
     "text": [
      "True\n",
      "False\n"
     ]
    }
   ],
   "source": [
    "# membership operators: in, not in\n",
    "a=[1,2,3,4]\n",
    "print(1 in a)\n",
    "print(1 not in a)"
   ]
  },
  {
   "cell_type": "markdown",
   "metadata": {},
   "source": [
    "## 1.4 If-else and Indentation\n",
    "\n",
    "One of the most distinctive features of Python is its use of indentation to mark blocks of code.\n",
    "\n",
    "The colon (:) is significant and required. It separates the header of the compound statement from the body.\n",
    "The line after the colon must be indented. It is standard in Python to use four spaces for indenting."
   ]
  },
  {
   "cell_type": "code",
<<<<<<< HEAD
   "execution_count": 18,
=======
   "execution_count": 25,
>>>>>>> upstream/main
   "metadata": {},
   "outputs": [
    {
     "name": "stdout",
     "output_type": "stream",
     "text": [
      "Logging on ...\n",
      "All done!\n"
     ]
    }
   ],
   "source": [
    "pwd='apple'\n",
    "if pwd == 'apple':\n",
    "    print('Logging on ...')\n",
    "else:\n",
    "    print('Incorrect password.')\n",
    "    print('Try again') # multiple lines in one block of code need to have the same indentation\n",
    "\n",
    "print('All done!')"
   ]
  },
  {
   "cell_type": "markdown",
   "metadata": {},
   "source": [
    "## 1.5 Loop\n",
    "\n",
    "For loop and While loop"
   ]
  },
  {
   "cell_type": "code",
<<<<<<< HEAD
   "execution_count": 19,
=======
   "execution_count": 26,
>>>>>>> upstream/main
   "metadata": {},
   "outputs": [
    {
     "name": "stdout",
     "output_type": "stream",
     "text": [
      "Apple\n",
      "Asus\n",
      "Dell\n",
      "Samsung\n"
     ]
    }
   ],
   "source": [
    "# For loop\n",
    "#The for loop that is used to iterate over elements of a sequence, it is often \n",
    "#used when you have a piece of code which you want to repeat \"n\" number of time. \n",
    "\n",
    "#It works like this: \" for all elements in a list, do this \"\n",
    "\n",
    "computer_brands = [\"Apple\", \"Asus\", \"Dell\", \"Samsung\"]\n",
    "for brands in computer_brands:\n",
    "    print(brands)  # need indentation to show it is within for block"
   ]
  },
  {
   "cell_type": "code",
<<<<<<< HEAD
   "execution_count": 20,
=======
   "execution_count": 32,
>>>>>>> upstream/main
   "metadata": {},
   "outputs": [
    {
     "name": "stdout",
     "output_type": "stream",
     "text": [
      "0\n",
      "2\n",
      "4\n",
      "6\n",
      "8\n",
      "10\n",
      "12\n",
      "14\n",
      "16\n",
      "18\n",
      "0.1\n",
      "0.2\n",
      "0.30000000000000004\n",
      "0.4\n",
      "0.5\n",
      "0.6\n",
      "0.7000000000000001\n",
      "0.8\n",
      "0.9\n",
<<<<<<< HEAD
      "5050\n"
=======
      "9.33262154439441e+157\n"
>>>>>>> upstream/main
     ]
    }
   ],
   "source": [
    "# to loop through integers\n",
    "for i in range(10):\n",
    "    c=2*i\n",
    "    print(c)\n",
    "    \n",
    "# to loop through arrays\n",
    "import numpy as np\n",
    "for a in np.arange(0.1,1.0,0.1):\n",
    "    print(a)\n",
    "    \n",
    "# try this, calculate 1+2+3....+100\n",
<<<<<<< HEAD
    "sum_int = 0\n",
    "for b in np.arange(0, 101, 1):\n",
    "    sum_int += b\n",
    "    \n",
    "print(sum_int)"
=======
    "b=1.\n",
    "\n",
    "for i in range(1,101):\n",
    "    b=b*i\n",
    "print(b)"
>>>>>>> upstream/main
   ]
  },
  {
   "cell_type": "markdown",
   "metadata": {},
   "source": [
    "Sometimes if you have an array and you want to loop through the array to get both the index and element of the array, you can use ** enumerate** function.\n",
    "\n",
    "Enumerate() method adds a counter to an iterable and returns it in a form of enumerate object. This enumerate object can then be used directly in for loops"
   ]
  },
  {
   "cell_type": "code",
<<<<<<< HEAD
   "execution_count": 21,
=======
   "execution_count": 33,
>>>>>>> upstream/main
   "metadata": {},
   "outputs": [
    {
     "name": "stdout",
     "output_type": "stream",
     "text": [
      "Return type: <class 'enumerate'>\n",
      "[(0, 'eat'), (1, 'sleep'), (2, 'repeat')]\n"
     ]
    }
   ],
   "source": [
    "l1 = [\"eat\",\"sleep\",\"repeat\"] \n",
    "  \n",
    "# creating enumerate objects \n",
    "obj1 = enumerate(l1) \n",
    "\n",
    "print(\"Return type:\",type(obj1) )\n",
    "print(list(enumerate(l1)) )\n"
   ]
  },
  {
   "cell_type": "code",
<<<<<<< HEAD
   "execution_count": 22,
=======
   "execution_count": 39,
>>>>>>> upstream/main
   "metadata": {},
   "outputs": [
    {
     "name": "stdout",
     "output_type": "stream",
     "text": [
      "List index-value are : \n",
      "0 1 2\n",
      "1 4 8\n",
      "2 5 9\n",
      "3 6 10\n",
      "4 7 11\n",
      "0 1 2\n",
      "1 4 8\n",
      "2 5 9\n",
      "3 6 10\n",
      "4 7 11\n"
     ]
    }
   ],
   "source": [
    "# initializing list \n",
    "list1 = [1, 4, 5, 6, 7] \n",
    "list2 = [2, 8, 9, 10, 11]\n",
    "# using enumerate to \n",
    "# get index and value .\n",
    "print (\"List index-value are : \") \n",
    "for index, value in enumerate(list1): \n",
    "    print(index, value, list2[index]) # This saves writing \"list1[index]\" every time.\n",
    "\n",
    "for index in range(len(list1)):\n",
    "    print(index,list1[index],list2[index])"
   ]
  },
  {
   "cell_type": "markdown",
   "metadata": {},
   "source": [
    "## 1.6 Open and Read Files\n"
   ]
  },
  {
   "cell_type": "code",
<<<<<<< HEAD
   "execution_count": 23,
=======
   "execution_count": 46,
>>>>>>> upstream/main
   "metadata": {},
   "outputs": [
    {
     "name": "stdout",
     "output_type": "stream",
     "text": [
      "[8.61138e-05 9.55903e-05 1.04687e-04 1.14222e-04 1.24623e-04 1.35971e-04\n",
      " 1.48349e-04 1.61853e-04 1.76585e-04 1.92655e-04 2.10187e-04 2.29312e-04\n",
      " 2.50175e-04 2.72935e-04 2.97764e-04 3.24849e-04 3.54397e-04 3.86631e-04\n",
      " 4.21794e-04 4.60155e-04 5.02002e-04 5.47652e-04 5.97453e-04 6.51781e-04\n",
      " 7.11046e-04 7.75699e-04 8.46230e-04 9.23171e-04 1.00711e-03 1.09867e-03\n",
      " 1.19856e-03 1.30753e-03 1.42640e-03 1.55608e-03 1.69755e-03 1.85187e-03\n",
      " 2.02023e-03 2.20388e-03 2.40423e-03 2.62280e-03 2.86123e-03 3.12134e-03\n",
      " 3.40508e-03 3.71462e-03 4.05230e-03 4.42068e-03 4.82253e-03 5.26092e-03\n",
      " 5.73916e-03 6.26087e-03 6.83000e-03 7.45086e-03 8.12817e-03 8.86704e-03\n",
      " 9.67307e-03 1.05524e-02 1.15116e-02 1.25580e-02 1.36996e-02 1.49449e-02\n",
      " 1.63034e-02 1.77854e-02 1.94021e-02 2.11658e-02 2.30897e-02 2.51886e-02\n",
      " 2.74783e-02 2.99761e-02 3.27009e-02 3.56735e-02 3.89162e-02 4.24537e-02\n",
      " 4.63128e-02 5.05226e-02 5.51151e-02 6.01251e-02 6.55905e-02 7.15527e-02\n",
      " 7.80569e-02 8.51523e-02 9.28926e-02 1.01337e-01 1.10548e-01 1.20597e-01\n",
      " 1.31559e-01 1.43518e-01 1.56564e-01 1.70795e-01 1.86321e-01 2.03257e-01\n",
      " 2.21733e-01 2.41889e-01 2.63877e-01 2.87863e-01 3.14030e-01 3.42575e-01]\n"
     ]
    }
   ],
   "source": [
    "import numpy as np\n",
    "import matplotlib.pyplot as plt\n",
    "import os\n",
    "\n",
    "file = open('data.tab','r')\n",
    "\n",
    "# Read and ignore header lines\n",
    "header1 = file.readline()\n",
    "header2 = file.readline()\n",
    "x1v = []\n",
    "rho = []\n",
    "vel2 = []\n",
    "for line in file: # Loop through every line in the file\n",
    "    line = line.strip() # The strip() removes characters from both left and right \n",
    "    columns = line.split() # Split the string into many columns\n",
    "    x1v = np.append(x1v,float(columns[1])) # convert the column into floating numbers\n",
    "    rho = np.append(rho,float(columns[2]))\n",
    "    vel2 = np.append(vel2,float(columns[5]))\n",
    "print(x1v)"
   ]
  },
  {
   "cell_type": "code",
<<<<<<< HEAD
   "execution_count": 24,
   "metadata": {},
   "outputs": [
    {
     "name": "stdout",
     "output_type": "stream",
     "text": [
      "[8.61138e-05 9.55903e-05 1.04687e-04 1.14222e-04 1.24623e-04 1.35971e-04\n",
      " 1.48349e-04 1.61853e-04 1.76585e-04 1.92655e-04 2.10187e-04 2.29312e-04\n",
      " 2.50175e-04 2.72935e-04 2.97764e-04 3.24849e-04 3.54397e-04 3.86631e-04\n",
      " 4.21794e-04 4.60155e-04 5.02002e-04 5.47652e-04 5.97453e-04 6.51781e-04\n",
      " 7.11046e-04 7.75699e-04 8.46230e-04 9.23171e-04 1.00711e-03 1.09867e-03\n",
      " 1.19856e-03 1.30753e-03 1.42640e-03 1.55608e-03 1.69755e-03 1.85187e-03\n",
      " 2.02023e-03 2.20388e-03 2.40423e-03 2.62280e-03 2.86123e-03 3.12134e-03\n",
      " 3.40508e-03 3.71462e-03 4.05230e-03 4.42068e-03 4.82253e-03 5.26092e-03\n",
      " 5.73916e-03 6.26087e-03 6.83000e-03 7.45086e-03 8.12817e-03 8.86704e-03\n",
      " 9.67307e-03 1.05524e-02 1.15116e-02 1.25580e-02 1.36996e-02 1.49449e-02\n",
      " 1.63034e-02 1.77854e-02 1.94021e-02 2.11658e-02 2.30897e-02 2.51886e-02\n",
      " 2.74783e-02 2.99761e-02 3.27009e-02 3.56735e-02 3.89162e-02 4.24537e-02\n",
      " 4.63128e-02 5.05226e-02 5.51151e-02 6.01251e-02 6.55905e-02 7.15527e-02\n",
      " 7.80569e-02 8.51523e-02 9.28926e-02 1.01337e-01 1.10548e-01 1.20597e-01\n",
      " 1.31559e-01 1.43518e-01 1.56564e-01 1.70795e-01 1.86321e-01 2.03257e-01\n",
      " 2.21733e-01 2.41889e-01 2.63877e-01 2.87863e-01 3.14030e-01 3.42575e-01]\n"
=======
   "execution_count": 23,
   "metadata": {},
   "outputs": [
    {
     "ename": "IndentationError",
     "evalue": "expected an indented block (<ipython-input-23-f4495a311f66>, line 16)",
     "output_type": "error",
     "traceback": [
      "\u001b[0;36m  File \u001b[0;32m\"<ipython-input-23-f4495a311f66>\"\u001b[0;36m, line \u001b[0;32m16\u001b[0m\n\u001b[0;31m    return(data)\u001b[0m\n\u001b[0m         ^\u001b[0m\n\u001b[0;31mIndentationError\u001b[0m\u001b[0;31m:\u001b[0m expected an indented block\n"
>>>>>>> upstream/main
     ]
    }
   ],
   "source": [
    "# A little bit more complicated data readin\n",
    "import numpy as np\n",
    "import matplotlib.pyplot as plt\n",
    "import sys\n",
    "\n",
    "# now define a function to read in files\n",
    "def readfile(name):\n",
    "    f = open(name,'r')\n",
    "    header1 = f.readline() # one header line\n",
    "    header2 = f.readline()\n",
    "    data={'ind':[],'x1v':[],'rho':[],'press':[],'vel1':[],'vel2':[],'vel3':[]} # use dictionary to organize the arrays, each element is an array \n",
    "    for line in f:\n",
    "        # try yourself to readin the data to the dictionary\n",
    "        line.strip()\n",
    "        columns = line.split()\n",
    "        #print(type(data['ind']))\n",
    "        data['ind'] = np.append(data['ind'],float(columns[0]))\n",
    "        data['x1v'] = np.append(data['x1v'],float(columns[1])) # convert the column into floating numbers\n",
    "        data['rho'] = np.append(data['rho'], float(columns[2]))\n",
    "        data['vel2'] = np.append(data['vel2'],float(columns[5]))\n",
    "        \n",
    "    return(data)\n",
    "\n",
    "data = readfile(\"data.tab\")\n",
    "\n",
    "print(data['x1v'])"
   ]
  },
  {
   "cell_type": "markdown",
   "metadata": {},
   "source": [
    "# 2 Making Plots\n",
    "  \n",
    "## 2.1 VPython (Optional)\n",
    "\n",
    "VPython can make 2-D plots\n",
    "\n",
    "vpython plot basically add point by point"
   ]
  },
  {
   "cell_type": "code",
<<<<<<< HEAD
   "execution_count": 25,
=======
   "execution_count": 1,
>>>>>>> upstream/main
   "metadata": {
    "scrolled": true
   },
   "outputs": [
    {
     "data": {
      "text/html": [
       "<div id=\"glowscript\" class=\"glowscript\"></div>"
      ],
      "text/plain": [
       "<IPython.core.display.HTML object>"
      ]
     },
     "metadata": {},
     "output_type": "display_data"
    },
    {
     "data": {
      "application/javascript": [
       "if (typeof Jupyter !== \"undefined\") { window.__context = { glowscript_container: $(\"#glowscript\").removeAttr(\"id\")};}else{ element.textContent = ' ';}"
      ],
      "text/plain": [
       "<IPython.core.display.Javascript object>"
      ]
     },
     "metadata": {},
     "output_type": "display_data"
    },
    {
     "data": {
      "text/html": [
       "<div id=\"glowscript\" class=\"glowscript\"></div>"
      ],
      "text/plain": [
       "<IPython.core.display.HTML object>"
      ]
     },
     "metadata": {},
     "output_type": "display_data"
    },
    {
     "data": {
      "application/javascript": [
       "if (typeof Jupyter !== \"undefined\") { window.__context = { glowscript_container: $(\"#glowscript\").removeAttr(\"id\")};}else{ element.textContent = ' ';}"
      ],
      "text/plain": [
       "<IPython.core.display.Javascript object>"
      ]
     },
     "metadata": {},
     "output_type": "display_data"
    },
    {
     "data": {
      "application/javascript": [
       "if (typeof Jupyter !== \"undefined\") {require.undef(\"nbextensions/vpython_libraries/glow.min\");}else{element.textContent = ' ';}"
      ],
      "text/plain": [
       "<IPython.core.display.Javascript object>"
      ]
     },
     "metadata": {},
     "output_type": "display_data"
    },
    {
     "data": {
      "application/javascript": [
       "if (typeof Jupyter !== \"undefined\") {require.undef(\"nbextensions/vpython_libraries/glowcomm\");}else{element.textContent = ' ';}"
      ],
      "text/plain": [
       "<IPython.core.display.Javascript object>"
      ]
     },
     "metadata": {},
     "output_type": "display_data"
    },
    {
     "data": {
      "application/javascript": [
       "if (typeof Jupyter !== \"undefined\") {require.undef(\"nbextensions/vpython_libraries/jquery-ui.custom.min\");}else{element.textContent = ' ';}"
      ],
      "text/plain": [
       "<IPython.core.display.Javascript object>"
      ]
     },
     "metadata": {},
     "output_type": "display_data"
    },
    {
     "data": {
      "application/javascript": [
       "if (typeof Jupyter !== \"undefined\") {require([\"nbextensions/vpython_libraries/glow.min\"], function(){console.log(\"GLOW LOADED\");});}else{element.textContent = ' ';}"
      ],
      "text/plain": [
       "<IPython.core.display.Javascript object>"
      ]
     },
     "metadata": {},
     "output_type": "display_data"
    },
    {
     "data": {
      "application/javascript": [
       "if (typeof Jupyter !== \"undefined\") {require([\"nbextensions/vpython_libraries/glowcomm\"], function(){console.log(\"GLOWCOMM LOADED\");});}else{element.textContent = ' ';}"
      ],
      "text/plain": [
       "<IPython.core.display.Javascript object>"
      ]
     },
     "metadata": {},
     "output_type": "display_data"
    },
    {
     "data": {
      "application/javascript": [
       "if (typeof Jupyter !== \"undefined\") {require([\"nbextensions/vpython_libraries/jquery-ui.custom.min\"], function(){console.log(\"JQUERY LOADED\");});}else{element.textContent = ' ';}"
      ],
      "text/plain": [
       "<IPython.core.display.Javascript object>"
      ]
     },
     "metadata": {},
     "output_type": "display_data"
    }
   ],
   "source": [
    "from vpython import * # must import vpython first\n",
    "scene = canvas() # with this you don't need to restart kernel each time\n",
    "\n",
    "f1 = gcurve(color=color.cyan)\t# a graphics curve\n",
    "for x in arange(0, 8.05, 0.1):\t# x goes from 0 to 8\n",
    "    f1.plot(pos=(x,5*cos(2*x)*exp(-0.2*x)))\t# plot\n",
    "    \n",
    "f2 = gvbars(delta=0.05, color=color.blue) # a bar curve\n",
    "for x in arange(0, 8.05, 0.1):\t# x goes from 0 to 8\n",
    "    f2.plot(pos=(x,3*cos(2*x)*exp(-0.2*x)))\t# plot"
   ]
  },
  {
   "cell_type": "markdown",
   "metadata": {},
   "source": [
    "VPython is good at making 3D object"
   ]
  },
  {
   "cell_type": "code",
<<<<<<< HEAD
   "execution_count": 26,
=======
   "execution_count": 2,
>>>>>>> upstream/main
   "metadata": {
    "scrolled": true
   },
   "outputs": [],
   "source": [
    "from vpython import *\n",
    "Sue=sphere(pos = vector(-1,0,0), radius=0.5, color=color.green) # make the first sphere at pos\n",
    "Bob=sphere(pos = vector(1,1,0), radius=0.5, color=color.green) # make the second sphere\n",
    "arrow(pos=Sue.pos,axis=Bob.pos-Sue.pos,color=color.red) # make an arrow pointint from Sue to Bob"
   ]
  },
  {
   "cell_type": "markdown",
   "metadata": {},
   "source": [
    "You can even make animations"
   ]
  },
  {
   "cell_type": "code",
<<<<<<< HEAD
   "execution_count": 27,
=======
   "execution_count": 3,
>>>>>>> upstream/main
   "metadata": {
    "scrolled": false
   },
   "outputs": [
    {
     "data": {
      "text/html": [
       "<div id=\"glowscript\" class=\"glowscript\"></div>"
      ],
      "text/plain": [
       "<IPython.core.display.HTML object>"
      ]
     },
     "metadata": {},
     "output_type": "display_data"
    },
    {
     "data": {
      "application/javascript": [
       "if (typeof Jupyter !== \"undefined\") { window.__context = { glowscript_container: $(\"#glowscript\").removeAttr(\"id\")};}else{ element.textContent = ' ';}"
      ],
      "text/plain": [
       "<IPython.core.display.Javascript object>"
      ]
     },
     "metadata": {},
     "output_type": "display_data"
    }
   ],
   "source": [
    "from vpython import *\n",
    "scene2 = canvas(title='Ring and Ball',\n",
    "     width=600, height=300,\n",
    "     center=vector(0,1,2), forward=vector(0,-0.5,-1), background=color.cyan) # set the camera\n",
    "# y is pointing up, z is pointing inwards, for the ring, axis is the direction it is pointing\n",
    "Sue=ring(pos = vector(0,0,0), axis=vector(0,1,0), radius=1, thickness=0.3, color=color.green)\n",
    "Bob=sphere(pos = vector(0,5,0), radius=0.5, color=color.cyan)\n",
    "arr=helix(pos=Sue.pos,axis=Bob.pos-Sue.pos,radius=0.5,color=color.red) # plot the helix\n",
    "\n",
    "r = Bob.pos\n",
    "while r.y > -5.:\n",
    "    rate(10)   # slow down the animation\n",
    "    Bob.pos = r\n",
    "    c=Bob.pos - Sue.pos\n",
    "    arr.axis = c  # update the helix length\n",
    "    r.y = r.y - 0.1 # update Bob the sphere's position"
   ]
  },
  {
   "cell_type": "markdown",
   "metadata": {},
   "source": [
    "## 2.2 Matplotlib\n",
    "\n",
    "Powerful plotting package. Most commonly used python plotting tool. Has similar commands as MATLAB. Uses the NumPy array objects to store the data to plot. Different from VPython which adds points one by one. "
   ]
  },
  {
   "cell_type": "code",
<<<<<<< HEAD
   "execution_count": 28,
=======
   "execution_count": 4,
>>>>>>> upstream/main
   "metadata": {},
   "outputs": [
    {
     "name": "stdout",
     "output_type": "stream",
     "text": [
      "arange => x[0], x[1],x[499]=   -5.00    -4.98     4.98\n",
      "arange => y[0], y[1],y[499]=   -0.13    -0.31     0.31\n",
      "\n",
      " Now doing the plotting thing, look for Figure 1 on desktop\n"
     ]
    },
    {
     "data": {
      "image/png": "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\n",
      "text/plain": [
<<<<<<< HEAD
       "<Figure size 432x288 with 1 Axes>"
=======
       "<matplotlib.figure.Figure at 0x7ff098c9a780>"
>>>>>>> upstream/main
      ]
     },
     "metadata": {
      "needs_background": "light"
     },
     "output_type": "display_data"
    }
   ],
   "source": [
    "\"\"\" From \"COMPUTATIONAL PHYSICS\", 3rd Ed, Enlarged Python eTextBook  \n",
    "    by RH Landau, MJ Paez, and CC Bordeianu\n",
    "    Copyright Wiley-VCH Verlag GmbH & Co. KGaA, Berlin;  Copyright R Landau,\n",
    "    Oregon State Unv, MJ Paez, Univ Antioquia, C Bordeianu, Univ Bucharest, 2015.\n",
    "    Support by National Science Foundation\"\"\"                                                       \n",
    "\n",
    "# EasyMatPlot.py:                 Simple use of matplotlib's plot command \n",
    "from pylab import *           # Load Matplotlib\n",
    "\n",
    "Xmin = -5.0;        Xmax = +5.0;      Npoints= 500\n",
    "DelX= (Xmax-Xmin)/Npoints                                      # Delta x\n",
    "x = arange(Xmin, Xmax, DelX)      # Form x array in range with increment \n",
    "y =  sin(x)*sin(x*x)              # y array = function of x array\n",
    "\n",
    "print ('arange => x[0], x[1],x[499]=%8.2f %8.2f %8.2f' %(x[0],x[1],x[499]))\n",
    "print ('arange => y[0], y[1],y[499]=%8.2f %8.2f %8.2f' %(y[0],y[1],y[499]))\n",
    "print (\"\\n Now doing the plotting thing, look for Figure 1 on desktop\" )                                                                                       \n",
    "xlabel('x');      ylabel('f(x)');     title(' f(x) vs x')        # labels\n",
    "text(-1.85,  0.75, 'MatPlotLib Example')                     # Text on plot\n",
    "plot(x, y, '-', lw=2)                                 # dash means it is a line                     \n",
    "grid(True)                                                    # Form grid\n",
    "show()                                                 # Make screen plot"
   ]
  },
  {
   "cell_type": "code",
   "execution_count": 13,
   "metadata": {},
   "outputs": [
    {
     "data": {
      "image/png": "iVBORw0KGgoAAAANSUhEUgAAAYYAAAD8CAYAAABzTgP2AAAABHNCSVQICAgIfAhkiAAAAAlwSFlz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\n",
      "text/plain": [
       "<matplotlib.figure.Figure at 0x7ff09a7a3048>"
      ]
     },
     "metadata": {},
     "output_type": "display_data"
    }
   ],
   "source": [
    "x=np.arange(0.,2.*3.14,0.1)\n",
    "y=sin(x)\n",
    "plt.plot(x,y)\n",
    "plt.show()"
   ]
  },
  {
   "cell_type": "code",
<<<<<<< HEAD
   "execution_count": 30,
   "metadata": {},
   "outputs": [
    {
     "data": {
      "image/png": "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\n",
      "text/plain": [
       "<Figure size 432x288 with 1 Axes>"
      ]
     },
     "metadata": {
      "needs_background": "light"
     },
     "output_type": "display_data"
    }
   ],
   "source": [
    "#y = x \n",
    "#y = x - (1/6.)*x^3\n",
    "#y = sin(x)\n",
    "#domain (-2pi, 2pi)\n",
    "#range (-2,2)\n",
    "x = np.arange(-2*pi, 2*pi,0.1)\n",
    "y_1 = x\n",
    "y_2 = x-(1/6)*x**3\n",
    "y_3 = sin(x)\n",
    "\n",
    "plt.plot(x,y_1)\n",
    "plt.plot(x,y_2)\n",
    "plt.plot(x,y_3)\n",
    "plt.ylim(-2,2)\n",
    "\n",
    "\n",
    "plt.show()\n"
=======
   "execution_count": 14,
   "metadata": {},
   "outputs": [],
   "source": [
    "# Please make a plot showing y=x, y=x-1./6.*x^3, together with y=sin(x) from -2pi to 2pi. \n",
    "# Please limit the y axis range from -2 to 2. (using plt.ylim(a,b) function)"
>>>>>>> upstream/main
   ]
  },
  {
   "cell_type": "code",
<<<<<<< HEAD
   "execution_count": 19,
=======
   "execution_count": 15,
>>>>>>> upstream/main
   "metadata": {},
   "outputs": [
    {
     "data": {
      "image/png": "iVBORw0KGgoAAAANSUhEUgAAAYQAAAEWCAYAAABmE+CbAAAABHNCSVQICAgIfAhkiAAAAAlwSFlz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\n",
      "text/plain": [
       "<matplotlib.figure.Figure at 0x7ff09a7ea278>"
      ]
     },
     "metadata": {},
     "output_type": "display_data"
    }
   ],
   "source": [
    "\"\"\" From \"COMPUTATIONAL PHYSICS\", 3rd Ed, Enlarged Python eTextBook  \n",
    "    by RH Landau, MJ Paez, and CC Bordeianu\n",
    "    Copyright Wiley-VCH Verlag GmbH & Co. KGaA, Berlin;  Copyright R Landau,\n",
    "    Oregon State Unv, MJ Paez, Univ Antioquia, C Bordeianu, Univ Bucharest, 2015.\n",
    "    Support by National Science Foundation\"\"\"\n",
    "\n",
    "# Grade.py: Using Matplotlib's plot command with multi data sets & curves\n",
    "\n",
    "import pylab as p                           # import Matplotlib label it as p\n",
    "from numpy import *                                 # import numpy library\n",
    "\n",
    "p.title('Grade Inflation')                             # Title and labels\n",
    "p.xlabel('Years in College')\n",
    "p.ylabel('GPA')\n",
    "\n",
    "xa = array([-1, 5])                                 # For horizontal line\n",
    "ya = array([0, 0])                                       # Array of zeros\n",
    "p.plot(xa, ya)                                     # Draw horizontal line\n",
    "                                                   \n",
    "x0 = array([0, 1, 2, 3, 4])                           # Data set 0 points\n",
    "y0 = array([-1.4, +1.1, 2.2, 3.3, 4.0])\n",
    "p.plot(x0, y0, 'bo')                          # Data set 0 = blue circles\n",
    "p.plot(x0, y0, 'g')                                   # Data set 0 = line\n",
    "\n",
    "y1 = array([4.0, 2.7, -1.8, -0.9, 2.6])               # Data set 1 points\n",
    "t = arange(0, 5, 1)\n",
    "p.plot(t, y1, 'r')                                          \n",
    "\n",
    "err1sup = array([1.0, 0.3, 1.2, 0.4, 0.1])        # Asymmetric error bars\n",
    "err1inf = array([2.0, 0.6, 2.3, 1.8, 0.4])                    \n",
    "p.errorbar(t, y1, [err1inf, err1sup], fmt = 'o')        # Plot error bars\n",
    "\n",
    "p.grid(True)                                                  # Grid line\n",
    "p.show()                                          # Create plot on screen"
   ]
  },
  {
   "cell_type": "markdown",
   "metadata": {},
   "source": [
    "It can also plot 3-D data.   \n",
    "Two ways:  \n",
    "1) 3-D surface  \n",
    "2) 2-D color contour"
   ]
  },
  {
   "cell_type": "code",
   "execution_count": 19,
   "metadata": {},
   "outputs": [
    {
     "data": {
      "image/png": "iVBORw0KGgoAAAANSUhEUgAAAOQAAADvCAYAAADikHhOAAAABHNCSVQICAgIfAhkiAAAAAlwSFlz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\nN20AAAAASUVORK5CYII=\n",
      "text/plain": [
       "<matplotlib.figure.Figure at 0x7ff09aa69e10>"
      ]
     },
     "metadata": {},
     "output_type": "display_data"
    }
   ],
   "source": [
    "# Plot the potential of a point mass with two methods (two subplots)\n",
    "\n",
    "import matplotlib.pylab  as p                                     \n",
    "from mpl_toolkits.mplot3d import Axes3D        \n",
    "\n",
    "# to make 3-D plot, need Axes3D package from matplot tool kit\n",
    "\n",
    "delta = 0.1\n",
    "x = p.arange( -3., 3., delta )\n",
    "y = p.arange( -3., 3., delta )\n",
    "X, Y = p.meshgrid(x, y)                 # set coordinate grid matrix, X, Y are 2D array\n",
    "smooth = 0.3                            # smoothing length to avoid singularity\n",
    "Z = -1./p.sqrt(X*X+Y*Y+smooth*smooth)                               # Surface height\n",
    "\n",
    "fig = p.figure()                                    # Create figure\n",
    "\n",
    "ax = fig.add_subplot(2,2,1)\n",
    "levels=p.arange(Z.min(),Z.max(),(Z.max() - Z.min())/100.) #contour levels#\n",
    "CS=p.contour(x,y,Z, levels=levels)\n",
    "# CS=p.contourf(x,y,Z, levels=levels)\n",
    "p.xlabel('X')\n",
    "p.ylabel('Y')\n",
    "p.colorbar(CS)\n",
    "\n",
    "ax = fig.add_subplot(2,2,3,projection='3d')          # the 2 by 2, 4 subplots, the first one\n",
    "ax.plot_surface(X, Y, Z)                            # Surface\n",
    "ax.plot_wireframe(X, Y, Z, color = 'r')               # Add wireframe\n",
    "ax.set_xlabel('X')\n",
    "ax.set_ylabel('Y')\n",
    "ax.set_zlabel('Z')\n",
    "\n",
    "\n",
    "p.show()                                             # Output figure"
   ]
  },
  {
   "cell_type": "code",
   "execution_count": 35,
   "metadata": {},
   "outputs": [
    {
     "name": "stdout",
     "output_type": "stream",
     "text": [
      "(60, 60) (60, 60) (60, 60)\n"
     ]
    }
   ],
   "source": [
    "print(X.shape, Y.shape, Z.shape)"
   ]
  },
  {
   "cell_type": "code",
   "execution_count": 40,
   "metadata": {},
   "outputs": [
    {
     "name": "stdout",
     "output_type": "stream",
     "text": [
      "(60,) (60,) (60, 60)\n"
     ]
    }
   ],
   "source": [
    "print(x.shape,y.shape,Z.shape)"
   ]
  },
  {
   "cell_type": "markdown",
   "metadata": {},
   "source": [
    "# Homework\n",
    "\n",
    "1) \n",
    "\n",
    "Write a program to plot\n",
    "\\begin{equation}\n",
    "f(x)=\\pi/2+2*(sin(x)+sin(3x)/3+sin(5x)/5+....sin(nx)/n)\n",
    "\\end{equation}\n",
    "from -$\\pi$ to $\\pi$. Choose n=11, 21 and 31 and plot three curves in one figure. Please use numpy library and matplotlib.\n",
    "\n",
    "Then setup your github account and commit this to your github.\n",
    "\n",
    "2) For graduate student\n",
    "\n",
    "Write your own Vpython program to generate a simple animation. "
   ]
  },
  {
   "cell_type": "code",
   "execution_count": null,
   "metadata": {},
   "outputs": [],
   "source": []
  }
 ],
 "metadata": {
  "kernelspec": {
   "display_name": "Python 3",
   "language": "python",
   "name": "python3"
  },
  "language_info": {
   "codemirror_mode": {
    "name": "ipython",
    "version": 3
   },
   "file_extension": ".py",
   "mimetype": "text/x-python",
   "name": "python",
   "nbconvert_exporter": "python",
   "pygments_lexer": "ipython3",
   "version": "3.7.3"
  }
 },
 "nbformat": 4,
 "nbformat_minor": 2
}
