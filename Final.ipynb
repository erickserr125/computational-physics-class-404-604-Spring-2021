{
 "cells": [
  {
   "cell_type": "markdown",
   "metadata": {},
   "source": [
    "# Final Projects\n",
    "\n",
    "1.Find the real roots of\n",
    "\\begin{equation}\n",
    "x^4-6x^3+12.25x^2-11x+3.75=0\n",
    "\\end{equation}\n",
    "using 1) bisection, and 2) Newton-Raphson methods."
   ]
  },
  {
   "cell_type": "markdown",
   "metadata": {},
   "source": [
    "### Answer\n",
    "For Bisection, we perform the following steps:\n",
    "\n",
    "1. Intiate the midpoint randomly from (a)-(b) (Arbitrary range)\n",
    "2. Measure the value of the midpoint f(c) & see if it approaches 0 closely enough\n",
    "3. Otherwise, we replace the range, a or b, with c.\n",
    "4. Repeat for a specified number of times (specified iterations)\n",
    "5. Repeat for every root"
   ]
  },
  {
   "cell_type": "code",
   "execution_count": 1,
   "metadata": {},
   "outputs": [],
   "source": [
    "def f(x):\n",
    "    return x**4 - 6*x**3 + 12.25*x**2-11*x+3.75\n",
    "\n",
    "#Recall the bisection method from lecture 05\n",
    "def bisection(xmin,xmax, Nmax, eps,f):\n",
    "    for i in range(0,Nmax):\n",
    "        x=(xmin+xmax)/2.\n",
    "        if(f(xmin)*f(x)>0):\n",
    "            xmin=x \n",
    "        else:\n",
    "            xmax=x\n",
    "        if(abs(f(x))<eps):\n",
    "            print(\"Root is at\",x,\" after \",i,\" iterations, with a precision of \",abs(f(x)))\n",
    "            break\n",
    "    return x"
   ]
  },
  {
   "cell_type": "code",
   "execution_count": 2,
   "metadata": {},
   "outputs": [
    {
     "data": {
      "image/png": "[encoded data removed]",
      "text/plain": [
       "<Figure size 432x288 with 1 Axes>"
      ]
     },
     "metadata": {
      "needs_background": "light"
     },
     "output_type": "display_data"
    }
   ],
   "source": [
    "import matplotlib.pyplot as plt\n",
    "import numpy as np\n",
    "\n",
    "\n",
    "#First we visualize the function\n",
    "x = np.linspace(0,3)\n",
    "plt.plot(x, f(x))\n",
    "plt.show()"
   ]
  },
  {
   "cell_type": "markdown",
   "metadata": {},
   "source": [
    "We first set our limits from 0 to 1.5"
   ]
  },
  {
   "cell_type": "code",
   "execution_count": 3,
   "metadata": {},
   "outputs": [
    {
     "name": "stdout",
     "output_type": "stream",
     "text": [
      "Root is at 1.0000000149011612  after  24  iterations, with a precision of  7.450578820566989e-09\n",
      "Root found at:  1.0000000149011612\n"
     ]
    }
   ],
   "source": [
    "a = 0\n",
    "b = 2.5\n",
    "iterations = 100\n",
    "eps = 1e-8 #10^-8\n",
    "\n",
    "x = bisection(a,b,iterations,eps,f)\n",
    "print(\"Root found at: \", x)"
   ]
  },
  {
   "cell_type": "markdown",
   "metadata": {},
   "source": [
    "We repeat again for 2.5 onward"
   ]
  },
  {
   "cell_type": "code",
   "execution_count": 4,
   "metadata": {},
   "outputs": [
    {
     "name": "stdout",
     "output_type": "stream",
     "text": [
      "Root is at 2.9999999998835847  after  31  iterations, with a precision of  9.89530235528946e-10\n",
      "Root found at:  2.9999999998835847\n"
     ]
    }
   ],
   "source": [
    "a = 2.5\n",
    "b = 10\n",
    "iterations = 100\n",
    "eps = 1e-8 #10^-8\n",
    "\n",
    "x = bisection(a,b,iterations,eps,f)\n",
    "print(\"Root found at: \", x)"
   ]
  },
  {
   "cell_type": "markdown",
   "metadata": {},
   "source": [
    "This result coincides with our analytical results, which measure $1$ and $3$ as the final, real roots. Now we can repeat with $\\mathbf{\\textrm{the newton raphson method}}$\n",
    "\n",
    "#### Newton Rapshon Method"
   ]
  },
  {
   "cell_type": "markdown",
   "metadata": {},
   "source": [
    "To execute the newton raphson method well, we perform the following steps.\n",
    "\n",
    "1. Start with a guess $x_0$ and check if it's a root\n",
    "2. Correct it with $\\Delta x = -\\frac{f(x_0)}{f'(x_0)}$\n",
    "3. Then update $x_0 = x_0 + \\Delta x$\n",
    "4. Repeat until we reach the end point with a sufficient accuracy"
   ]
  },
  {
   "cell_type": "code",
   "execution_count": 5,
   "metadata": {},
   "outputs": [],
   "source": [
    "def f(x):\n",
    "    return x**4 - 6*x**3 + 12.25*x**2-11*x+3.75\n",
    "\n",
    "def central_diff(x, dx, f):\n",
    "    \"\"\"\n",
    "    Uses input x, step size dx, and function f\n",
    "    \"\"\"\n",
    "    return (f(x)*(x+dx/2) - f(x)*(x-dx/2))/dx\n",
    "\n",
    "#Recall the newtonraphson method from lecture 5\n",
    "def newtonraphson(x0,dx, Nmax, eps,f):\n",
    "    for i in range(0,Nmax):\n",
    "        if(abs(f(x0)) < eps):\n",
    "            print(\"Root at \", x0, \"with precision\", f(x0))\n",
    "            return x0\n",
    "        df = central_diff(x0,dx,f)\n",
    "        x0 -= f(x0)/df\n",
    "        \n",
    "    return x0"
   ]
  },
  {
   "cell_type": "code",
   "execution_count": 6,
   "metadata": {},
   "outputs": [
    {
     "name": "stdout",
     "output_type": "stream",
     "text": [
      "Initial x_0:  65\n",
      "Root at  0.9999998555381562 with precision 7.223092790553665e-08\n",
      "Newton Raphson finished at:  0.9999998555381562\n"
     ]
    }
   ],
   "source": [
    "x_0 = np.random.randint(100)\n",
    "iterations = 10000\n",
    "eps = 10**-7 #10^-7\n",
    "\n",
    "print(\"Initial x_0: \", x_0)\n",
    "dx = 10**-6 #Optimal value for maximum precision\n",
    "\n",
    "\n",
    "x = newtonraphson(x_0, dx, iterations, eps, f)\n",
    "print(\"Newton Raphson finished at: \", x)"
   ]
  },
  {
   "cell_type": "markdown",
   "metadata": {},
   "source": [
    "Now we repeat this until we find a second root:"
   ]
  },
  {
   "cell_type": "code",
   "execution_count": 7,
   "metadata": {},
   "outputs": [
    {
     "name": "stdout",
     "output_type": "stream",
     "text": [
      "Initial x_0:  0\n",
      "Newton Raphson finished at:  -9999.997403966026\n"
     ]
    }
   ],
   "source": [
    "x_0 = np.random.randint(100)\n",
    "iterations = 10000\n",
    "eps = 10**-7 #10^-7\n",
    "\n",
    "print(\"Initial x_0: \", x_0)\n",
    "dx = 10**-6 #Optimal value for maximum precision\n",
    "\n",
    "\n",
    "x = newtonraphson(x_0, dx, iterations, eps, f)\n",
    "print(\"Newton Raphson finished at: \", x)"
   ]
  },
  {
   "cell_type": "markdown",
   "metadata": {},
   "source": [
    "$This\\ concludes\\ our\\ answer\\ for\\ question\\ 1.$"
   ]
  },
  {
   "cell_type": "markdown",
   "metadata": {},
   "source": [
    "2.Lorenz Attractors: In 1961, Edward Lorenz was using a simplified atmospheric convection model to predict weather patterns, when, as a shortcut, he entered the decimal 0.506 instead of entering the full 0.506 127 for a parameter in the model. The results for the two numbers were so different that at first he thought it to be a numerical error, but in time he realized that this was a nonlinear system with chaotic behavior. Now we want you to repeat this discovery. (Landau 379)\n",
    "\n",
    "The equation used by Lorenz are\n",
    "\\begin{eqnarray}\n",
    "dx/dt = \\sigma(y-x)\\\\\n",
    "dy/dt = x(\\rho-z)-y\\\\\n",
    "dz/dt = -\\beta z+ xy\\\\\n",
    "\\end{eqnarray}\n",
    "\n",
    "where x(t) is a measure of fluid velocity as a function of time t, y(t) and z(t) are measures of the temperature distributions in two directions, and $\\sigma$, $\\rho$, and $\\beta$ are parameters. Note that the xz and xy terms make these equations nonlinear.\n",
    "\n",
    "a) Modify your RK4 solver to solve these equations. \n",
    "Choose $\\sigma=10$, $\\rho=28$, and $\\beta=8/3$, and the initial x,y,z are all  1. Integrate t to t=40. \n",
    "\n",
    "b) Integrate a short period of time (e.g. t=1) with different dt. Show the results converge to some values.  Plot the error with respect to dt. How fast the integrator converges? \n",
    "\n",
    "c) Make plots of x vs t, y vs t, and z vs t\n",
    "\n",
    "d) Do a Fourier analysis for x vs t (run the code for a longer t=200). \n",
    "\n",
    "d) Make a “phase-space” plot of z(t) vs. x(t) (the independent variable t does not appear in such a plot).\n",
    "\n",
    "e) The parameters given to you should lead to chaotic solutions. Start with two x values which are very close to each other, and show that they eventually diverges after some time. \n"
   ]
  },
  {
   "cell_type": "markdown",
   "metadata": {},
   "source": [
    "### Answer\n",
    "1.. To implement RK4, we implement the initial conditions, define our function f(t,y,n) and apply the rk4 method to t=40\n"
   ]
  },
  {
   "cell_type": "code",
   "execution_count": 203,
   "metadata": {
    "scrolled": false
   },
   "outputs": [
    {
     "name": "stdout",
     "output_type": "stream",
     "text": [
      "Stop at t=  1.1500000000000008 due to error\n",
      "(115, 1)\n",
      "[9.20979452e+98]\n",
      "(115, 1)\n",
      "[1.64870154e+161]\n",
      "(115, 1)\n",
      "[-7.80196957e+160]\n"
     ]
    },
    {
     "name": "stderr",
     "output_type": "stream",
     "text": [
      "<ipython-input-203-2576231a0d3e>:15: RuntimeWarning: overflow encountered in double_scalars\n",
      "  f_l[1] = y[0]*(rho-y[2])-y[1]\n",
      "<ipython-input-203-2576231a0d3e>:16: RuntimeWarning: overflow encountered in double_scalars\n",
      "  f_l[2] = -beta*y[2] + y[0]*y[1]\n",
      "<ipython-input-203-2576231a0d3e>:16: RuntimeWarning: invalid value encountered in double_scalars\n",
      "  f_l[2] = -beta*y[2] + y[0]*y[1]\n",
      "<ipython-input-203-2576231a0d3e>:14: RuntimeWarning: invalid value encountered in double_scalars\n",
      "  f_l[0] = sigma*(y[0]-y[1])\n",
      "<ipython-input-203-2576231a0d3e>:25: RuntimeWarning: invalid value encountered in add\n",
      "  y+= 1/6*(k1+2*k2+2*k3+k4)\n"
     ]
    }
   ],
   "source": [
    "y = [1,1,1] #x, y,z initial conditions\n",
    "n = len(y) #Number of First-Order equations\n",
    "t = 0 #Start at 0\n",
    "dt = .01\n",
    "t_lim = 40\n",
    "\n",
    "#Define function related to first-order equations\n",
    "def f(t,y,n):\n",
    "    f_l = np.empty(n)\n",
    "    sigma = 10\n",
    "    rho = 28\n",
    "    beta = 8/3\n",
    "    \n",
    "    f_l[0] = sigma*(y[0]-y[1])\n",
    "    f_l[1] = y[0]*(rho-y[2])-y[1]\n",
    "    f_l[2] = -beta*y[2] + y[0]*y[1]\n",
    "    return f_l\n",
    "    \n",
    "#rk4 function\n",
    "def rk4(t,h,y,n):\n",
    "    k1=h*f(t,y,n)\n",
    "    k2=h*f(t+0.5*h,y+0.5*k1,n)\n",
    "    k3=h*f(t+0.5*h,y+0.5*k2,n)\n",
    "    k4=h*f(t+0.5*h,y+0.5*k3,n)\n",
    "    y+= 1/6*(k1+2*k2+2*k3+k4)\n",
    "    return y \n",
    "\n",
    "\n",
    "x_o = np.empty(0)\n",
    "y_o = np.empty(0)\n",
    "z_o = np.empty(0)\n",
    "time = np.empty(0)\n",
    "while(t<t_lim):\n",
    "    if(t+dt>t_lim):\n",
    "        dt = t_lim-t\n",
    "    y = rk4(t,dt,y,n)\n",
    "    if np.isnan(y[0]) or np.isnan(y[1]) or np.isnan(y[2]):\n",
    "        print(\"Stop at t= \", t, \"due to error\")\n",
    "        time = t\n",
    "        break\n",
    "    x_o =np.append(x_o,y[0])\n",
    "    y_o =np.append(y_o,y[1])\n",
    "    z_o =np.append(z_o,y[2])\n",
    "    time = np.append(time, t)\n",
    "    #print(\"x,y,z: (\",y[0],y[1],y[2],\")\")\n",
    "    #print(\"Time: \",t)\n",
    "    t = t+dt\n",
    "    \n",
    "x_o = x_o.reshape((x_o.shape[0],1))\n",
    "y_o = y_o.reshape((y_o.shape[0],1))\n",
    "z_o = z_o.reshape((z_o.shape[0],1))\n",
    "\n",
    "\n",
    "\n",
    "\n",
    "print(x_o.shape)\n",
    "print(sum(x_o))\n",
    "print(y_o.shape)\n",
    "print(sum(y_o))\n",
    "print(z_o.shape)\n",
    "print(sum(z_o))"
   ]
  },
  {
   "cell_type": "markdown",
   "metadata": {},
   "source": [
    "We clearly see that our values become so large, that we can no longer calculate the values of $x,y,z$. Now, we move onto integration for a short period:"
   ]
  },
  {
   "cell_type": "markdown",
   "metadata": {},
   "source": [
    "b) Integrate a short period of time (e.g. t=1) with different dt. Show the results converge to some values.  Plot the error with respect to dt. How fast the integrator converges? \n",
    "\n",
    "To integrate, we simply take the values $x_r,y_r,z_r$ and integrate with respect to time, for some $dt$. For our purposes, we will use an array of values for $dt$\n",
    "\n",
    "\n"
   ]
  },
  {
   "cell_type": "code",
   "execution_count": 179,
   "metadata": {},
   "outputs": [],
   "source": [
    "#Recall the RK4 solver\n",
    "#import scipy.integrate as integrate\n",
    "#Expected Results from 0-1\n",
    "#t_lim = np.linspace(0,1, len(x_r))\n",
    "#tx = integrate.simps(x_r,t_lim)\n",
    "#ty = integrate.simps(y_r,t_lim)\n",
    "#tz = integrate.simps(z_r,t_lim)\n",
    "\n",
    "x_final = np.empty(0)\n",
    "y_final = np.empty(0)\n",
    "z_final = np.empty(0)\n",
    "\n",
    "dt = np.linspace(10**-5,1, 115) #Multiple dt\n",
    "n = len(y) #Number of First-Order equations\n",
    "t_lim = 1 #Finish at 0\n",
    "\n",
    "for i in dt:\n",
    "    #Experimental Results\n",
    "    y = [1,1,1] #x, y,z initial conditions\n",
    "    t = 0 #Start at 0\n",
    "    \n",
    "    x_r = np.empty(0)\n",
    "    y_r = np.empty(0)\n",
    "    z_r = np.empty(0)\n",
    "    time = np.empty(0)\n",
    "    while(t<t_lim):\n",
    "        if(t+i>t_lim):\n",
    "            i = t_lim-t\n",
    "        y = rk4(t,i,y,n)\n",
    "        if np.isnan(y[0]) or np.isnan(y[1]) or np.isnan(y[2]):\n",
    "            print(\"Stop at t= \", t, \"due to error\")\n",
    "            time = t\n",
    "            break\n",
    "        x_r =np.append(x_r,y[0])\n",
    "        y_r =np.append(y_r,y[1])\n",
    "        z_r =np.append(z_r,y[2])\n",
    "        time = np.append(time, t)\n",
    "        #print(\"x,y,z: (\",y[0],y[1],y[2],\")\")\n",
    "        #print(\"Time: \",t)\n",
    "        t = t+i\n",
    "    #Integrals for a given dt value\n",
    "    x_final = np.append(x_final,sum(x_r))\n",
    "    y_final = np.append(y_final,sum(y_r))\n",
    "    z_final = np.append(z_final,sum(z_r))\n",
    "x_final = x_final.reshape((x_final.shape[0],1))\n",
    "y_final = y_final.reshape((y_final.shape[0],1))\n",
    "z_final = z_final.reshape((z_final.shape[0],1))"
   ]
  },
  {
   "cell_type": "code",
   "execution_count": 202,
   "metadata": {
    "scrolled": true
   },
   "outputs": [
    {
     "name": "stdout",
     "output_type": "stream",
     "text": [
      "Min Error at:  [1.] [1.] [1.]\n",
      "(115, 1) (115, 1) (115, 1)\n"
     ]
    },
    {
     "data": {
      "image/png": "[encoded data removed]",
      "text/plain": [
       "<Figure size 432x288 with 1 Axes>"
      ]
     },
     "metadata": {
      "needs_background": "light"
     },
     "output_type": "display_data"
    }
   ],
   "source": [
    "#print(\"Experiment 2 results(x): \", x_final)\n",
    "#print(\"Experiment 2 results(y): \", y_final)\n",
    "#print(\"Experiment 2 results(z): \", z_final)\n",
    "\n",
    "#print(\"Experiment 1 results(x): \", x_o)\n",
    "#print(\"Experiment 1 results(y): \", y_o)\n",
    "#print(\"Experiment 1 results(z): \", z_o)\n",
    "#Subtract 1st Experiment from 2nd experiment with differetn dt's\n",
    "error_x = np.array(abs(np.divide((x_final - x_o),x_o)))\n",
    "error_y = np.array(abs(np.divide((y_final - y_o),y_o)))\n",
    "error_z = np.array(abs(np.divide((z_final - z_o),z_o)))\n",
    "\n",
    "print(\"Min Error at: \", min(error_x), min(error_y), min(error_z))\n",
    "print(x_o.shape, x_final.shape, error_x.shape)\n",
    "plt.plot(dt, np.log10(error_x), label = \"Error of x\")\n",
    "plt.plot(dt, np.log10(error_y), label = \"Error of y\")\n",
    "plt.plot(dt, np.log10(error_z), label = \"Error of z\")\n",
    "plt.xlabel(\"values dt\")\n",
    "plt.ylabel(\"Error (log10)\")\n",
    "plt.legend()\n",
    "plt.show()"
   ]
  },
  {
   "cell_type": "markdown",
   "metadata": {},
   "source": [
    "This graph reveals that, at approximately dt = 0.5, there is a significant and stable drop in the error rate. Additionally, the minimum error is revealed to be 1% for the closest values of dt."
   ]
  },
  {
   "cell_type": "markdown",
   "metadata": {},
   "source": [
    "c) With the results on our first experiment, we can simply map the results using matplotlib:\n"
   ]
  },
  {
   "cell_type": "code",
   "execution_count": 213,
   "metadata": {},
   "outputs": [
    {
     "name": "stdout",
     "output_type": "stream",
     "text": [
      "Stop at t=  1.1500000000000008 due to error\n"
     ]
    },
    {
     "name": "stderr",
     "output_type": "stream",
     "text": [
      "<ipython-input-213-4f6eb21ecd8f>:20: RuntimeWarning: overflow encountered in double_scalars\n",
      "  f_l[1] = y[0]*(rho-y[2])-y[1]\n",
      "<ipython-input-213-4f6eb21ecd8f>:21: RuntimeWarning: overflow encountered in double_scalars\n",
      "  f_l[2] = -beta*y[2] + y[0]*y[1]\n",
      "<ipython-input-213-4f6eb21ecd8f>:21: RuntimeWarning: invalid value encountered in double_scalars\n",
      "  f_l[2] = -beta*y[2] + y[0]*y[1]\n",
      "<ipython-input-213-4f6eb21ecd8f>:19: RuntimeWarning: invalid value encountered in double_scalars\n",
      "  f_l[0] = sigma*(y[0]-y[1])\n",
      "<ipython-input-213-4f6eb21ecd8f>:30: RuntimeWarning: invalid value encountered in add\n",
      "  y+= 1/6*(k1+2*k2+2*k3+k4)\n"
     ]
    },
    {
     "data": {
      "image/png": "[encoded data removed]",
      "text/plain": [
       "<Figure size 432x288 with 1 Axes>"
      ]
     },
     "metadata": {
      "needs_background": "light"
     },
     "output_type": "display_data"
    }
   ],
   "source": [
    "import matplotlib.pyplot\n",
    "\n",
    "\"\"\"\n",
    "FIRST WE EXECUTE THE ORIGINAL INTEGRATION METHOD\n",
    "\"\"\"\n",
    "y = [1,1,1] #x, y,z initial conditions\n",
    "n = len(y) #Number of First-Order equations\n",
    "t = 0 #Start at 0\n",
    "dt = .01\n",
    "t_lim = 40\n",
    "\n",
    "#Define function related to first-order equations\n",
    "def f(t,y,n):\n",
    "    f_l = np.empty(n)\n",
    "    sigma = 10\n",
    "    rho = 28\n",
    "    beta = 8/3\n",
    "    \n",
    "    f_l[0] = sigma*(y[0]-y[1])\n",
    "    f_l[1] = y[0]*(rho-y[2])-y[1]\n",
    "    f_l[2] = -beta*y[2] + y[0]*y[1]\n",
    "    return f_l\n",
    "    \n",
    "#rk4 function\n",
    "def rk4(t,h,y,n):\n",
    "    k1=h*f(t,y,n)\n",
    "    k2=h*f(t+0.5*h,y+0.5*k1,n)\n",
    "    k3=h*f(t+0.5*h,y+0.5*k2,n)\n",
    "    k4=h*f(t+0.5*h,y+0.5*k3,n)\n",
    "    y+= 1/6*(k1+2*k2+2*k3+k4)\n",
    "    return y \n",
    "\n",
    "\n",
    "x_o = np.empty(0)\n",
    "y_o = np.empty(0)\n",
    "z_o = np.empty(0)\n",
    "time = np.empty(0)\n",
    "while(t<t_lim):\n",
    "    if(t+dt>t_lim):\n",
    "        dt = t_lim-t\n",
    "    y = rk4(t,dt,y,n)\n",
    "    if np.isnan(y[0]) or np.isnan(y[1]) or np.isnan(y[2]):\n",
    "        temp = t\n",
    "        print(\"Stop at t= \", t, \"due to error\")\n",
    "        break\n",
    "    x_o =np.append(x_o,y[0])\n",
    "    y_o =np.append(y_o,y[1])\n",
    "    z_o =np.append(z_o,y[2])\n",
    "    time = np.append(time, t)\n",
    "    #print(\"x,y,z: (\",y[0],y[1],y[2],\")\")\n",
    "    #print(\"Time: \",t)\n",
    "    t = t+dt\n",
    "    \n",
    "x_o = x_o.reshape((x_o.shape[0],1))\n",
    "y_o = y_o.reshape((y_o.shape[0],1))\n",
    "z_o = z_o.reshape((z_o.shape[0],1))\n",
    "time = time.reshape((time.shape[0],1))\n",
    "\n",
    "#NOW WE PLOT\n",
    "plt.plot(time,x_o, label = \"x vs. time\")\n",
    "plt.plot(time,y_o, label= \"y vs. time\")\n",
    "plt.plot(time,z_o, label= \"z vs. time\")\n",
    "plt.xlabel(\"Time (s)\")\n",
    "plt.ylabel(\"x(t),y(t),z(t)\")\n",
    "plt.ylim(-40,40)\n",
    "plt.legend()\n",
    "plt.show()"
   ]
  },
  {
   "cell_type": "markdown",
   "metadata": {},
   "source": [
    "d) Do a Fourier analysis for x vs t (run the code for a longer t=200). "
   ]
  },
  {
   "cell_type": "code",
   "execution_count": null,
   "metadata": {},
   "outputs": [],
   "source": []
  },
  {
   "cell_type": "markdown",
   "metadata": {},
   "source": [
    "d) Make a “phase-space” plot of z(t) vs. x(t) (the independent variable t does not appear in such a plot).\n",
    "\n",
    "e) The parameters given to you should lead to chaotic solutions. Start with two x values which arevery close to each other, and show that they eventually diverges after some time."
   ]
  },
  {
   "cell_type": "code",
   "execution_count": null,
   "metadata": {
    "scrolled": true
   },
   "outputs": [],
   "source": []
  },
  {
   "cell_type": "markdown",
   "metadata": {},
   "source": [
    "3.During the star formation, a gaseous disk forms around the young star. Since planets will form inside this disk, it is called the protoplanetary disks. The simplest model for studying the evolution of this disk is called the viscous disk model\n",
    "\n",
    "\\begin{equation}\n",
    "\\frac{\\partial \\Sigma}{\\partial t}=\\frac{3}{R}\\frac{\\partial}{\\partial R}\\left[R^{1/2}\\frac{\\partial}{\\partial R}(\\nu\\Sigma R^{1/2})\\right]\n",
    "\\end{equation}\n",
    "Where R is the distance to the star, $\\Sigma$ is the disk's surface density, and $\\nu$ is the viscosity of the disk.\n",
    "This equation is similar to the thermal diffusion equation. Use the method we learned in this class to solve this equation. Initialize the disk surface density with a gaussian at R=1. $\\sigma$ for the gaussian is 0.1. Choose $\\nu$=1. The simulation domain is from 0.1 to 2. At both boundary set the surface density to be 0 all the time. Choose the timestep of 0.1$\\Delta$r$^2/\\nu$ to be stable. Run your simulation to t=0.1 to see how the surface density evolves. "
   ]
  },
  {
   "cell_type": "code",
   "execution_count": null,
   "metadata": {},
   "outputs": [],
   "source": []
  },
  {
   "cell_type": "markdown",
   "metadata": {},
   "source": []
  }
 ],
 "metadata": {
  "kernelspec": {
   "display_name": "Python 3",
   "language": "python",
   "name": "python3"
  },
  "language_info": {
   "codemirror_mode": {
    "name": "ipython",
    "version": 3
   },
   "file_extension": ".py",
   "mimetype": "text/x-python",
   "name": "python",
   "nbconvert_exporter": "python",
   "pygments_lexer": "ipython3",
   "version": "3.8.5"
  }
 },
 "nbformat": 4,
 "nbformat_minor": 2
}
